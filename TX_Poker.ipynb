{
  "nbformat": 4,
  "nbformat_minor": 0,
  "metadata": {
    "colab": {
      "provenance": []
    },
    "kernelspec": {
      "name": "python3",
      "display_name": "Python 3"
    },
    "language_info": {
      "name": "python"
    }
  },
  "cells": [
    {
      "cell_type": "markdown",
      "source": [
        "# TX Poker "
      ],
      "metadata": {
        "id": "qyU4FR822cqz"
      }
    },
    {
      "cell_type": "markdown",
      "source": [
        "## Clustering"
      ],
      "metadata": {
        "id": "CqJDrWaw2eXq"
      }
    },
    {
      "cell_type": "markdown",
      "source": [
        "### Libraries"
      ],
      "metadata": {
        "id": "dER3oQYj28pL"
      }
    },
    {
      "cell_type": "code",
      "source": [
        "import pandas as pd\n",
        "import matplotlib.pyplot as plt\n",
        "import numpy as np"
      ],
      "metadata": {
        "id": "MobVqKNR2-bi"
      },
      "execution_count": 24,
      "outputs": []
    },
    {
      "cell_type": "markdown",
      "source": [
        "### Dataset\n",
        "On récupère les data qui servent à entrainer notre cluster"
      ],
      "metadata": {
        "id": "AxVbXPRj2yO3"
      }
    },
    {
      "cell_type": "code",
      "execution_count": 25,
      "metadata": {
        "id": "dSCsYRud2aRR"
      },
      "outputs": [],
      "source": [
        "dataset = pd.read_csv(\"data.csv\", encoding= 'ISO-8859-1')"
      ]
    },
    {
      "cell_type": "code",
      "source": [
        "dataset.head()"
      ],
      "metadata": {
        "colab": {
          "base_uri": "https://localhost:8080/",
          "height": 206
        },
        "id": "PYWQHeOf3CzV",
        "outputId": "16fda18b-f550-4198-e227-b7c63bb492f6"
      },
      "execution_count": 26,
      "outputs": [
        {
          "output_type": "execute_result",
          "data": {
            "text/plain": [
              "   vpip  ratio action\n",
              "0  1.00         -0.08\n",
              "1  0.00          1.00\n",
              "2  0.67          0.23\n",
              "3  1.00          0.00\n",
              "4  1.00          0.14"
            ],
            "text/html": [
              "\n",
              "  <div id=\"df-313f5d67-21a9-41ac-be9d-f83d0b03ed47\">\n",
              "    <div class=\"colab-df-container\">\n",
              "      <div>\n",
              "<style scoped>\n",
              "    .dataframe tbody tr th:only-of-type {\n",
              "        vertical-align: middle;\n",
              "    }\n",
              "\n",
              "    .dataframe tbody tr th {\n",
              "        vertical-align: top;\n",
              "    }\n",
              "\n",
              "    .dataframe thead th {\n",
              "        text-align: right;\n",
              "    }\n",
              "</style>\n",
              "<table border=\"1\" class=\"dataframe\">\n",
              "  <thead>\n",
              "    <tr style=\"text-align: right;\">\n",
              "      <th></th>\n",
              "      <th>vpip</th>\n",
              "      <th>ratio action</th>\n",
              "    </tr>\n",
              "  </thead>\n",
              "  <tbody>\n",
              "    <tr>\n",
              "      <th>0</th>\n",
              "      <td>1.00</td>\n",
              "      <td>-0.08</td>\n",
              "    </tr>\n",
              "    <tr>\n",
              "      <th>1</th>\n",
              "      <td>0.00</td>\n",
              "      <td>1.00</td>\n",
              "    </tr>\n",
              "    <tr>\n",
              "      <th>2</th>\n",
              "      <td>0.67</td>\n",
              "      <td>0.23</td>\n",
              "    </tr>\n",
              "    <tr>\n",
              "      <th>3</th>\n",
              "      <td>1.00</td>\n",
              "      <td>0.00</td>\n",
              "    </tr>\n",
              "    <tr>\n",
              "      <th>4</th>\n",
              "      <td>1.00</td>\n",
              "      <td>0.14</td>\n",
              "    </tr>\n",
              "  </tbody>\n",
              "</table>\n",
              "</div>\n",
              "      <button class=\"colab-df-convert\" onclick=\"convertToInteractive('df-313f5d67-21a9-41ac-be9d-f83d0b03ed47')\"\n",
              "              title=\"Convert this dataframe to an interactive table.\"\n",
              "              style=\"display:none;\">\n",
              "        \n",
              "  <svg xmlns=\"http://www.w3.org/2000/svg\" height=\"24px\"viewBox=\"0 0 24 24\"\n",
              "       width=\"24px\">\n",
              "    <path d=\"M0 0h24v24H0V0z\" fill=\"none\"/>\n",
              "    <path d=\"M18.56 5.44l.94 2.06.94-2.06 2.06-.94-2.06-.94-.94-2.06-.94 2.06-2.06.94zm-11 1L8.5 8.5l.94-2.06 2.06-.94-2.06-.94L8.5 2.5l-.94 2.06-2.06.94zm10 10l.94 2.06.94-2.06 2.06-.94-2.06-.94-.94-2.06-.94 2.06-2.06.94z\"/><path d=\"M17.41 7.96l-1.37-1.37c-.4-.4-.92-.59-1.43-.59-.52 0-1.04.2-1.43.59L10.3 9.45l-7.72 7.72c-.78.78-.78 2.05 0 2.83L4 21.41c.39.39.9.59 1.41.59.51 0 1.02-.2 1.41-.59l7.78-7.78 2.81-2.81c.8-.78.8-2.07 0-2.86zM5.41 20L4 18.59l7.72-7.72 1.47 1.35L5.41 20z\"/>\n",
              "  </svg>\n",
              "      </button>\n",
              "      \n",
              "  <style>\n",
              "    .colab-df-container {\n",
              "      display:flex;\n",
              "      flex-wrap:wrap;\n",
              "      gap: 12px;\n",
              "    }\n",
              "\n",
              "    .colab-df-convert {\n",
              "      background-color: #E8F0FE;\n",
              "      border: none;\n",
              "      border-radius: 50%;\n",
              "      cursor: pointer;\n",
              "      display: none;\n",
              "      fill: #1967D2;\n",
              "      height: 32px;\n",
              "      padding: 0 0 0 0;\n",
              "      width: 32px;\n",
              "    }\n",
              "\n",
              "    .colab-df-convert:hover {\n",
              "      background-color: #E2EBFA;\n",
              "      box-shadow: 0px 1px 2px rgba(60, 64, 67, 0.3), 0px 1px 3px 1px rgba(60, 64, 67, 0.15);\n",
              "      fill: #174EA6;\n",
              "    }\n",
              "\n",
              "    [theme=dark] .colab-df-convert {\n",
              "      background-color: #3B4455;\n",
              "      fill: #D2E3FC;\n",
              "    }\n",
              "\n",
              "    [theme=dark] .colab-df-convert:hover {\n",
              "      background-color: #434B5C;\n",
              "      box-shadow: 0px 1px 3px 1px rgba(0, 0, 0, 0.15);\n",
              "      filter: drop-shadow(0px 1px 2px rgba(0, 0, 0, 0.3));\n",
              "      fill: #FFFFFF;\n",
              "    }\n",
              "  </style>\n",
              "\n",
              "      <script>\n",
              "        const buttonEl =\n",
              "          document.querySelector('#df-313f5d67-21a9-41ac-be9d-f83d0b03ed47 button.colab-df-convert');\n",
              "        buttonEl.style.display =\n",
              "          google.colab.kernel.accessAllowed ? 'block' : 'none';\n",
              "\n",
              "        async function convertToInteractive(key) {\n",
              "          const element = document.querySelector('#df-313f5d67-21a9-41ac-be9d-f83d0b03ed47');\n",
              "          const dataTable =\n",
              "            await google.colab.kernel.invokeFunction('convertToInteractive',\n",
              "                                                     [key], {});\n",
              "          if (!dataTable) return;\n",
              "\n",
              "          const docLinkHtml = 'Like what you see? Visit the ' +\n",
              "            '<a target=\"_blank\" href=https://colab.research.google.com/notebooks/data_table.ipynb>data table notebook</a>'\n",
              "            + ' to learn more about interactive tables.';\n",
              "          element.innerHTML = '';\n",
              "          dataTable['output_type'] = 'display_data';\n",
              "          await google.colab.output.renderOutput(dataTable, element);\n",
              "          const docLink = document.createElement('div');\n",
              "          docLink.innerHTML = docLinkHtml;\n",
              "          element.appendChild(docLink);\n",
              "        }\n",
              "      </script>\n",
              "    </div>\n",
              "  </div>\n",
              "  "
            ]
          },
          "metadata": {},
          "execution_count": 26
        }
      ]
    },
    {
      "cell_type": "code",
      "source": [
        "dataset = dataset.to_numpy() #A la base c'est un fichier pandas, je passe le fichier en numpy pour l'algo"
      ],
      "metadata": {
        "id": "E68tS9K83NSC"
      },
      "execution_count": 27,
      "outputs": []
    },
    {
      "cell_type": "code",
      "source": [
        "neg_rows = np.any(dataset <= 0, axis=1)"
      ],
      "metadata": {
        "id": "CECYVjMVoapI"
      },
      "execution_count": 28,
      "outputs": []
    },
    {
      "cell_type": "code",
      "source": [
        "dataset = dataset[~neg_rows]"
      ],
      "metadata": {
        "id": "DmxUS0gxpIP_"
      },
      "execution_count": 29,
      "outputs": []
    },
    {
      "cell_type": "code",
      "source": [
        "dataset"
      ],
      "metadata": {
        "id": "RVy4XtN5pOhM",
        "colab": {
          "base_uri": "https://localhost:8080/"
        },
        "outputId": "98d0b096-99ce-4fb1-d300-e1e9d1eb31f3"
      },
      "execution_count": 30,
      "outputs": [
        {
          "output_type": "execute_result",
          "data": {
            "text/plain": [
              "array([[0.67, 0.23],\n",
              "       [1.  , 0.14],\n",
              "       [1.  , 0.33],\n",
              "       [0.34, 0.31],\n",
              "       [0.35, 0.41],\n",
              "       [0.54, 0.57],\n",
              "       [0.45, 0.4 ],\n",
              "       [0.45, 0.3 ],\n",
              "       [0.4 , 0.28],\n",
              "       [0.77, 0.59],\n",
              "       [0.69, 0.63],\n",
              "       [1.  , 1.  ],\n",
              "       [0.5 , 0.21],\n",
              "       [0.13, 0.72],\n",
              "       [0.12, 0.7 ],\n",
              "       [0.44, 0.5 ],\n",
              "       [0.49, 0.35],\n",
              "       [0.01, 0.99],\n",
              "       [0.43, 0.17],\n",
              "       [0.95, 0.32],\n",
              "       [1.  , 0.6 ],\n",
              "       [0.51, 0.22],\n",
              "       [0.75, 0.27],\n",
              "       [0.81, 0.66],\n",
              "       [0.36, 0.27],\n",
              "       [0.56, 0.46],\n",
              "       [0.53, 0.57],\n",
              "       [1.  , 0.33],\n",
              "       [0.31, 0.4 ],\n",
              "       [0.45, 0.32],\n",
              "       [0.16, 0.56],\n",
              "       [0.15, 0.56],\n",
              "       [0.13, 0.68],\n",
              "       [0.4 , 0.44],\n",
              "       [0.13, 0.69],\n",
              "       [0.05, 0.96],\n",
              "       [0.04, 0.77],\n",
              "       [0.5 , 0.21],\n",
              "       [1.  , 0.4 ],\n",
              "       [0.13, 0.55],\n",
              "       [0.48, 0.53],\n",
              "       [0.13, 0.69],\n",
              "       [0.13, 0.69],\n",
              "       [0.5 , 0.67],\n",
              "       [0.57, 0.55],\n",
              "       [0.51, 0.29],\n",
              "       [0.61, 0.51],\n",
              "       [0.49, 0.35],\n",
              "       [0.79, 0.63],\n",
              "       [0.52, 0.4 ],\n",
              "       [0.97, 0.55],\n",
              "       [1.  , 0.2 ],\n",
              "       [0.56, 0.31],\n",
              "       [1.  , 0.66],\n",
              "       [0.83, 0.12],\n",
              "       [0.65, 0.21],\n",
              "       [0.6 , 0.57],\n",
              "       [0.06, 0.26],\n",
              "       [0.25, 0.04],\n",
              "       [0.67, 0.33],\n",
              "       [0.32, 0.39],\n",
              "       [0.56, 0.29],\n",
              "       [0.41, 0.24],\n",
              "       [0.78, 0.5 ],\n",
              "       [0.43, 0.6 ],\n",
              "       [0.47, 0.18],\n",
              "       [0.56, 0.18],\n",
              "       [0.45, 0.7 ],\n",
              "       [0.24, 0.25],\n",
              "       [0.53, 0.38],\n",
              "       [1.  , 0.12],\n",
              "       [0.25, 0.05],\n",
              "       [0.7 , 0.56],\n",
              "       [0.68, 0.48],\n",
              "       [0.07, 0.25],\n",
              "       [0.14, 0.63],\n",
              "       [0.17, 0.56],\n",
              "       [0.36, 0.43],\n",
              "       [0.14, 0.59],\n",
              "       [0.5 , 0.49],\n",
              "       [0.13, 0.61],\n",
              "       [1.  , 0.17],\n",
              "       [0.8 , 0.29],\n",
              "       [0.54, 0.18],\n",
              "       [0.81, 0.77],\n",
              "       [0.14, 0.65],\n",
              "       [0.58, 0.53],\n",
              "       [0.48, 0.48],\n",
              "       [0.42, 0.49],\n",
              "       [0.14, 0.59],\n",
              "       [0.14, 0.64],\n",
              "       [1.  , 0.13],\n",
              "       [0.92, 0.7 ],\n",
              "       [0.08, 0.23],\n",
              "       [0.14, 0.23],\n",
              "       [0.4 , 0.47],\n",
              "       [0.45, 0.25],\n",
              "       [0.54, 0.5 ],\n",
              "       [0.1 , 0.29],\n",
              "       [0.28, 0.05],\n",
              "       [0.28, 0.5 ],\n",
              "       [0.62, 0.55],\n",
              "       [0.28, 0.31],\n",
              "       [0.18, 0.37],\n",
              "       [0.21, 0.44],\n",
              "       [0.25, 0.48],\n",
              "       [0.01, 1.  ],\n",
              "       [1.  , 0.27],\n",
              "       [0.83, 0.17],\n",
              "       [0.37, 0.45],\n",
              "       [0.67, 0.53],\n",
              "       [0.13, 0.71],\n",
              "       [0.57, 0.55],\n",
              "       [0.14, 0.58],\n",
              "       [0.13, 0.71],\n",
              "       [0.75, 0.21],\n",
              "       [1.  , 0.26],\n",
              "       [1.  , 0.32],\n",
              "       [1.  , 0.5 ],\n",
              "       [0.88, 0.22],\n",
              "       [0.14, 0.11],\n",
              "       [0.67, 0.23],\n",
              "       [0.83, 0.46],\n",
              "       [0.71, 0.26],\n",
              "       [0.83, 0.03],\n",
              "       [1.  , 0.15],\n",
              "       [0.4 , 0.06],\n",
              "       [0.74, 0.59],\n",
              "       [0.68, 0.65],\n",
              "       [0.28, 0.16],\n",
              "       [0.39, 0.35],\n",
              "       [0.13, 0.7 ],\n",
              "       [0.15, 0.58],\n",
              "       [0.55, 0.33],\n",
              "       [0.17, 0.57],\n",
              "       [0.49, 0.52],\n",
              "       [0.13, 0.69],\n",
              "       [0.13, 0.71],\n",
              "       [0.13, 0.71],\n",
              "       [0.55, 0.52],\n",
              "       [0.25, 0.3 ],\n",
              "       [0.27, 0.1 ],\n",
              "       [0.15, 0.57],\n",
              "       [0.6 , 0.39],\n",
              "       [1.  , 0.33],\n",
              "       [0.49, 0.35],\n",
              "       [1.  , 0.75],\n",
              "       [0.67, 0.69],\n",
              "       [0.56, 0.44],\n",
              "       [0.86, 0.54],\n",
              "       [0.55, 0.03],\n",
              "       [0.69, 0.28],\n",
              "       [0.57, 0.47],\n",
              "       [0.88, 0.55],\n",
              "       [0.12, 0.7 ],\n",
              "       [0.62, 0.44],\n",
              "       [1.  , 1.  ],\n",
              "       [0.42, 0.22],\n",
              "       [0.13, 0.71],\n",
              "       [0.52, 0.74],\n",
              "       [0.34, 0.43],\n",
              "       [0.23, 0.41],\n",
              "       [0.33, 0.55],\n",
              "       [0.6 , 0.55],\n",
              "       [0.38, 0.11],\n",
              "       [0.29, 0.52],\n",
              "       [0.47, 0.32],\n",
              "       [0.35, 0.48],\n",
              "       [0.18, 0.35],\n",
              "       [0.25, 0.55],\n",
              "       [0.23, 0.23],\n",
              "       [1.  , 0.4 ],\n",
              "       [0.36, 0.29],\n",
              "       [0.69, 0.43],\n",
              "       [0.49, 0.61],\n",
              "       [0.57, 0.37],\n",
              "       [0.66, 0.21],\n",
              "       [0.73, 0.25],\n",
              "       [0.13, 0.7 ],\n",
              "       [0.13, 0.71],\n",
              "       [0.64, 0.4 ],\n",
              "       [0.32, 0.3 ],\n",
              "       [0.47, 0.62],\n",
              "       [0.43, 0.26],\n",
              "       [0.13, 0.71],\n",
              "       [0.5 , 0.75],\n",
              "       [1.  , 0.67],\n",
              "       [0.12, 0.71],\n",
              "       [0.56, 0.22],\n",
              "       [1.  , 0.2 ],\n",
              "       [0.92, 0.04],\n",
              "       [0.96, 0.1 ],\n",
              "       [0.13, 0.7 ],\n",
              "       [0.64, 0.25],\n",
              "       [0.62, 0.42],\n",
              "       [0.73, 0.58],\n",
              "       [0.13, 0.71],\n",
              "       [0.89, 0.39],\n",
              "       [1.  , 0.15],\n",
              "       [1.  , 0.71],\n",
              "       [1.  , 0.03],\n",
              "       [0.14, 0.63],\n",
              "       [0.13, 0.62],\n",
              "       [0.57, 0.57],\n",
              "       [0.12, 0.45],\n",
              "       [0.15, 0.6 ],\n",
              "       [0.33, 0.33],\n",
              "       [0.67, 0.86],\n",
              "       [0.13, 0.71],\n",
              "       [0.38, 0.44],\n",
              "       [0.6 , 0.3 ],\n",
              "       [0.78, 0.43],\n",
              "       [0.13, 0.71],\n",
              "       [1.  , 0.15],\n",
              "       [1.  , 0.3 ],\n",
              "       [0.12, 0.7 ],\n",
              "       [0.13, 0.71],\n",
              "       [0.45, 0.25],\n",
              "       [0.15, 0.62],\n",
              "       [0.53, 0.51],\n",
              "       [0.11, 0.24],\n",
              "       [0.33, 0.17],\n",
              "       [0.51, 0.4 ],\n",
              "       [0.68, 0.28],\n",
              "       [0.44, 0.3 ],\n",
              "       [0.67, 0.57],\n",
              "       [0.43, 0.51],\n",
              "       [0.57, 0.51],\n",
              "       [0.33, 0.32],\n",
              "       [0.55, 0.52],\n",
              "       [0.3 , 0.15],\n",
              "       [0.76, 0.68],\n",
              "       [0.88, 0.1 ],\n",
              "       [0.92, 0.17],\n",
              "       [0.96, 0.12],\n",
              "       [1.  , 0.16],\n",
              "       [0.02, 0.98],\n",
              "       [0.69, 0.46],\n",
              "       [0.67, 0.5 ],\n",
              "       [0.41, 0.41],\n",
              "       [0.4 , 0.64],\n",
              "       [1.  , 1.  ],\n",
              "       [0.15, 0.56],\n",
              "       [0.14, 0.65],\n",
              "       [0.14, 0.66],\n",
              "       [0.43, 0.49],\n",
              "       [0.15, 0.58],\n",
              "       [0.35, 0.07],\n",
              "       [0.42, 0.52],\n",
              "       [0.41, 0.55],\n",
              "       [0.47, 0.39],\n",
              "       [0.71, 0.56],\n",
              "       [0.35, 0.39],\n",
              "       [0.39, 0.32],\n",
              "       [0.83, 0.5 ],\n",
              "       [0.53, 0.58],\n",
              "       [0.38, 0.52],\n",
              "       [0.62, 0.55],\n",
              "       [0.13, 0.65],\n",
              "       [0.32, 0.35],\n",
              "       [0.29, 0.45],\n",
              "       [0.13, 0.67],\n",
              "       [0.3 , 0.22],\n",
              "       [0.48, 0.53],\n",
              "       [0.09, 0.22],\n",
              "       [0.14, 0.59],\n",
              "       [0.13, 0.67],\n",
              "       [0.13, 0.66],\n",
              "       [0.76, 0.53],\n",
              "       [1.  , 0.12],\n",
              "       [0.68, 0.46],\n",
              "       [0.43, 0.26],\n",
              "       [0.68, 0.08],\n",
              "       [1.  , 0.2 ],\n",
              "       [0.55, 0.65],\n",
              "       [0.69, 0.41],\n",
              "       [1.  , 0.33],\n",
              "       [1.  , 0.25],\n",
              "       [1.  , 1.  ],\n",
              "       [0.45, 0.46],\n",
              "       [0.45, 0.36],\n",
              "       [0.38, 0.26],\n",
              "       [0.45, 0.62],\n",
              "       [0.61, 0.27],\n",
              "       [1.  , 0.14],\n",
              "       [0.63, 0.23],\n",
              "       [0.53, 0.73],\n",
              "       [0.39, 0.23],\n",
              "       [0.14, 0.61],\n",
              "       [0.75, 0.4 ],\n",
              "       [0.42, 0.57],\n",
              "       [0.43, 0.5 ],\n",
              "       [0.13, 0.67],\n",
              "       [0.13, 0.68],\n",
              "       [0.78, 0.21],\n",
              "       [0.01, 1.  ],\n",
              "       [0.73, 0.16],\n",
              "       [1.  , 0.33],\n",
              "       [0.06, 0.21],\n",
              "       [0.25, 0.14],\n",
              "       [0.12, 0.7 ],\n",
              "       [0.13, 0.71],\n",
              "       [0.55, 0.54],\n",
              "       [0.07, 0.21],\n",
              "       [0.13, 0.71],\n",
              "       [0.54, 0.43],\n",
              "       [0.12, 0.69],\n",
              "       [1.  , 1.  ],\n",
              "       [0.36, 0.41],\n",
              "       [0.16, 0.6 ],\n",
              "       [0.38, 0.41],\n",
              "       [0.13, 0.66],\n",
              "       [0.2 , 0.47],\n",
              "       [0.16, 0.6 ],\n",
              "       [0.13, 0.65],\n",
              "       [0.16, 0.57],\n",
              "       [0.67, 1.  ],\n",
              "       [0.03, 0.93],\n",
              "       [0.63, 0.49],\n",
              "       [0.69, 0.22],\n",
              "       [0.38, 0.4 ],\n",
              "       [0.27, 0.01],\n",
              "       [0.75, 0.68],\n",
              "       [0.47, 0.47],\n",
              "       [0.38, 0.57],\n",
              "       [0.22, 0.35],\n",
              "       [0.4 , 0.47],\n",
              "       [0.38, 0.49],\n",
              "       [0.91, 0.36],\n",
              "       [1.  , 0.21],\n",
              "       [0.01, 1.  ],\n",
              "       [0.43, 0.38],\n",
              "       [0.12, 0.7 ],\n",
              "       [0.13, 0.71],\n",
              "       [0.39, 0.56],\n",
              "       [0.5 , 1.  ],\n",
              "       [0.6 , 0.28],\n",
              "       [1.  , 0.17],\n",
              "       [1.  , 0.09],\n",
              "       [0.48, 0.38],\n",
              "       [0.64, 0.67],\n",
              "       [0.39, 0.57],\n",
              "       [0.4 , 0.58],\n",
              "       [0.33, 0.54],\n",
              "       [0.5 , 0.38],\n",
              "       [0.13, 0.7 ],\n",
              "       [0.13, 0.7 ],\n",
              "       [0.15, 0.59],\n",
              "       [0.42, 0.1 ],\n",
              "       [0.15, 0.54],\n",
              "       [0.88, 0.57],\n",
              "       [0.83, 0.19],\n",
              "       [0.85, 0.59],\n",
              "       [0.21, 0.28],\n",
              "       [0.2 , 0.27],\n",
              "       [0.79, 0.19],\n",
              "       [0.17, 0.56],\n",
              "       [0.51, 0.5 ],\n",
              "       [0.13, 0.69],\n",
              "       [0.15, 0.61],\n",
              "       [0.13, 0.69],\n",
              "       [0.42, 0.49]])"
            ]
          },
          "metadata": {},
          "execution_count": 30
        }
      ]
    },
    {
      "cell_type": "code",
      "source": [
        "#Petit plot rapide\n",
        "plt.scatter(dataset[:,0],dataset[:,1])\n",
        "plt.xlabel('vpip')\n",
        "plt.ylabel('ratio action')\n",
        "plt.show()"
      ],
      "metadata": {
        "colab": {
          "base_uri": "https://localhost:8080/",
          "height": 449
        },
        "id": "to7Xoi2K3LeS",
        "outputId": "9a69f995-1cf7-456f-87e6-6e1c02566b53"
      },
      "execution_count": 32,
      "outputs": [
        {
          "output_type": "display_data",
          "data": {
            "text/plain": [
              "<Figure size 640x480 with 1 Axes>"
            ],
            "image/png": "[encoded data removed]"
          },
          "metadata": {}
        }
      ]
    },
    {
      "cell_type": "markdown",
      "source": [
        "### Cluster"
      ],
      "metadata": {
        "id": "vJ6-VAlv-PVH"
      }
    },
    {
      "cell_type": "code",
      "source": [
        "from sklearn.cluster import KMeans\n",
        "\n",
        "n_clusters = 4\n",
        "kmeans = KMeans(n_clusters=n_clusters, random_state=0, n_init=\"auto\").fit(dataset)"
      ],
      "metadata": {
        "id": "aDMO1MZN3XcS"
      },
      "execution_count": 33,
      "outputs": []
    },
    {
      "cell_type": "code",
      "source": [
        "labels = kmeans.labels_"
      ],
      "metadata": {
        "id": "64EnSBfD3i_M"
      },
      "execution_count": 34,
      "outputs": []
    },
    {
      "cell_type": "code",
      "source": [
        "labels"
      ],
      "metadata": {
        "colab": {
          "base_uri": "https://localhost:8080/"
        },
        "id": "sGuRBwcz4BZX",
        "outputId": "746d0ab4-10c4-44f5-957c-1fba712f4f32"
      },
      "execution_count": null,
      "outputs": [
        {
          "output_type": "execute_result",
          "data": {
            "text/plain": [
              "array([1, 2, 1, 1, 2, 2, 2, 1, 1, 1, 2, 2, 2, 1, 1, 2, 2, 1, 1, 1, 3, 1,\n",
              "       1, 1, 1, 3, 3, 3, 1, 1, 1, 1, 1, 1, 3, 0, 1, 1, 1, 3, 1, 1, 0, 1,\n",
              "       0, 1, 3, 1, 1, 3, 3, 0, 1, 0, 0, 1, 2, 1, 2, 1, 2, 1, 2, 1, 2, 1,\n",
              "       0, 1, 0, 1, 0, 1, 2, 2, 2, 2, 2, 1, 3, 1, 0, 1, 1, 1, 1, 0, 1, 3,\n",
              "       0, 1, 2, 0, 2, 0, 2, 3, 2, 1, 2, 1, 2, 1, 0, 0, 3, 1, 0, 1, 0, 0,\n",
              "       1, 1, 0, 1, 1, 1, 1, 0, 1, 1, 3, 1, 1, 2, 1, 1, 2, 0, 2, 2, 1, 0,\n",
              "       1, 3, 0, 1, 1, 1, 3, 1, 0, 1, 1, 1, 1, 3, 1, 1, 3, 1, 1, 1, 3, 1,\n",
              "       1, 1, 1, 2, 1, 0, 2, 2, 0, 0, 1, 1, 1, 0, 0, 1, 1, 0, 0, 0, 1, 0,\n",
              "       1, 1, 1, 1, 1, 1, 3, 3, 1, 1, 3, 1, 0, 0, 1, 1, 1, 1, 1, 0, 0, 1,\n",
              "       1, 1, 3, 1, 1, 1, 2, 0, 1, 2, 1, 1, 0, 1, 1, 2, 2, 2, 1, 1, 3, 1,\n",
              "       0, 1, 1, 0, 2, 2, 3, 2, 2, 3, 2, 1, 2, 2, 1, 0, 2, 1, 1, 2],\n",
              "      dtype=int32)"
            ]
          },
          "metadata": {},
          "execution_count": 8
        }
      ]
    },
    {
      "cell_type": "code",
      "source": [
        "kmeans.labels_.astype(float)"
      ],
      "metadata": {
        "colab": {
          "base_uri": "https://localhost:8080/"
        },
        "id": "MWANRLvY4Y4a",
        "outputId": "134d94cf-99d2-469a-94ee-a624b894d081"
      },
      "execution_count": null,
      "outputs": [
        {
          "output_type": "execute_result",
          "data": {
            "text/plain": [
              "array([1., 2., 1., 1., 2., 2., 2., 1., 1., 1., 2., 2., 2., 1., 1., 2., 2.,\n",
              "       1., 1., 1., 3., 1., 1., 1., 1., 3., 3., 3., 1., 1., 1., 1., 1., 1.,\n",
              "       3., 0., 1., 1., 1., 3., 1., 1., 0., 1., 0., 1., 3., 1., 1., 3., 3.,\n",
              "       0., 1., 0., 0., 1., 2., 1., 2., 1., 2., 1., 2., 1., 2., 1., 0., 1.,\n",
              "       0., 1., 0., 1., 2., 2., 2., 2., 2., 1., 3., 1., 0., 1., 1., 1., 1.,\n",
              "       0., 1., 3., 0., 1., 2., 0., 2., 0., 2., 3., 2., 1., 2., 1., 2., 1.,\n",
              "       0., 0., 3., 1., 0., 1., 0., 0., 1., 1., 0., 1., 1., 1., 1., 0., 1.,\n",
              "       1., 3., 1., 1., 2., 1., 1., 2., 0., 2., 2., 1., 0., 1., 3., 0., 1.,\n",
              "       1., 1., 3., 1., 0., 1., 1., 1., 1., 3., 1., 1., 3., 1., 1., 1., 3.,\n",
              "       1., 1., 1., 1., 2., 1., 0., 2., 2., 0., 0., 1., 1., 1., 0., 0., 1.,\n",
              "       1., 0., 0., 0., 1., 0., 1., 1., 1., 1., 1., 1., 3., 3., 1., 1., 3.,\n",
              "       1., 0., 0., 1., 1., 1., 1., 1., 0., 0., 1., 1., 1., 3., 1., 1., 1.,\n",
              "       2., 0., 1., 2., 1., 1., 0., 1., 1., 2., 2., 2., 1., 1., 3., 1., 0.,\n",
              "       1., 1., 0., 2., 2., 3., 2., 2., 3., 2., 1., 2., 2., 1., 0., 2., 1.,\n",
              "       1., 2.])"
            ]
          },
          "metadata": {},
          "execution_count": 9
        }
      ]
    },
    {
      "cell_type": "code",
      "source": [
        "#Représentation des clusters\n",
        "plt.figure(figsize=(8, 6))\n",
        "\n",
        "plt.scatter(dataset[:,0], dataset[:,1], c=kmeans.labels_.astype(float))\n",
        "plt.xlabel('vpip')\n",
        "plt.ylabel('ration action')\n",
        "plt.title(\"VPIP et ratio d'action des bots\")"
      ],
      "metadata": {
        "colab": {
          "base_uri": "https://localhost:8080/",
          "height": 582
        },
        "id": "lWfH3SUF4XCk",
        "outputId": "a054eadd-59ad-4776-e36f-5769dc05b76c"
      },
      "execution_count": 35,
      "outputs": [
        {
          "output_type": "execute_result",
          "data": {
            "text/plain": [
              "Text(0.5, 1.0, \"VPIP et ratio d'action des bots\")"
            ]
          },
          "metadata": {},
          "execution_count": 35
        },
        {
          "output_type": "display_data",
          "data": {
            "text/plain": [
              "<Figure size 800x600 with 1 Axes>"
            ],
            "image/png": "[encoded data removed]"
          },
          "metadata": {}
        }
      ]
    },
    {
      "cell_type": "code",
      "source": [],
      "metadata": {
        "id": "Q8_rD31ImXkM"
      },
      "execution_count": null,
      "outputs": []
    },
    {
      "cell_type": "markdown",
      "source": [
        "### Datatest\n",
        "données où on test notre cluster pour voir dans quel cluster est mis un bot."
      ],
      "metadata": {
        "id": "QMUeD8Es-Vh7"
      }
    },
    {
      "cell_type": "code",
      "source": [
        "data = pd.read_csv(\"data_comportement.csv\", encoding= 'ISO-8859-1')"
      ],
      "metadata": {
        "id": "vEb_7BTDyB-b"
      },
      "execution_count": null,
      "outputs": []
    },
    {
      "cell_type": "code",
      "source": [
        "data.head()"
      ],
      "metadata": {
        "colab": {
          "base_uri": "https://localhost:8080/",
          "height": 206
        },
        "id": "q0_9TRrRyHz7",
        "outputId": "0b503f9c-fd0c-4822-e6fb-2d48882e7dff"
      },
      "execution_count": null,
      "outputs": [
        {
          "output_type": "execute_result",
          "data": {
            "text/plain": [
              "   vpip  ratio action                   bot\n",
              "0   1.0          0.53          random_agent\n",
              "1   1.0          0.46             agent_out\n",
              "2   1.0          0.15  agent_serre_agressif\n",
              "3   1.0          0.18            agent_naif\n",
              "4   1.0          0.98           agent_allIn"
            ],
            "text/html": [
              "\n",
              "  <div id=\"df-1c4db457-9f33-4145-9543-1f21064f9ae6\">\n",
              "    <div class=\"colab-df-container\">\n",
              "      <div>\n",
              "<style scoped>\n",
              "    .dataframe tbody tr th:only-of-type {\n",
              "        vertical-align: middle;\n",
              "    }\n",
              "\n",
              "    .dataframe tbody tr th {\n",
              "        vertical-align: top;\n",
              "    }\n",
              "\n",
              "    .dataframe thead th {\n",
              "        text-align: right;\n",
              "    }\n",
              "</style>\n",
              "<table border=\"1\" class=\"dataframe\">\n",
              "  <thead>\n",
              "    <tr style=\"text-align: right;\">\n",
              "      <th></th>\n",
              "      <th>vpip</th>\n",
              "      <th>ratio action</th>\n",
              "      <th>bot</th>\n",
              "    </tr>\n",
              "  </thead>\n",
              "  <tbody>\n",
              "    <tr>\n",
              "      <th>0</th>\n",
              "      <td>1.0</td>\n",
              "      <td>0.53</td>\n",
              "      <td>random_agent</td>\n",
              "    </tr>\n",
              "    <tr>\n",
              "      <th>1</th>\n",
              "      <td>1.0</td>\n",
              "      <td>0.46</td>\n",
              "      <td>agent_out</td>\n",
              "    </tr>\n",
              "    <tr>\n",
              "      <th>2</th>\n",
              "      <td>1.0</td>\n",
              "      <td>0.15</td>\n",
              "      <td>agent_serre_agressif</td>\n",
              "    </tr>\n",
              "    <tr>\n",
              "      <th>3</th>\n",
              "      <td>1.0</td>\n",
              "      <td>0.18</td>\n",
              "      <td>agent_naif</td>\n",
              "    </tr>\n",
              "    <tr>\n",
              "      <th>4</th>\n",
              "      <td>1.0</td>\n",
              "      <td>0.98</td>\n",
              "      <td>agent_allIn</td>\n",
              "    </tr>\n",
              "  </tbody>\n",
              "</table>\n",
              "</div>\n",
              "      <button class=\"colab-df-convert\" onclick=\"convertToInteractive('df-1c4db457-9f33-4145-9543-1f21064f9ae6')\"\n",
              "              title=\"Convert this dataframe to an interactive table.\"\n",
              "              style=\"display:none;\">\n",
              "        \n",
              "  <svg xmlns=\"http://www.w3.org/2000/svg\" height=\"24px\"viewBox=\"0 0 24 24\"\n",
              "       width=\"24px\">\n",
              "    <path d=\"M0 0h24v24H0V0z\" fill=\"none\"/>\n",
              "    <path d=\"M18.56 5.44l.94 2.06.94-2.06 2.06-.94-2.06-.94-.94-2.06-.94 2.06-2.06.94zm-11 1L8.5 8.5l.94-2.06 2.06-.94-2.06-.94L8.5 2.5l-.94 2.06-2.06.94zm10 10l.94 2.06.94-2.06 2.06-.94-2.06-.94-.94-2.06-.94 2.06-2.06.94z\"/><path d=\"M17.41 7.96l-1.37-1.37c-.4-.4-.92-.59-1.43-.59-.52 0-1.04.2-1.43.59L10.3 9.45l-7.72 7.72c-.78.78-.78 2.05 0 2.83L4 21.41c.39.39.9.59 1.41.59.51 0 1.02-.2 1.41-.59l7.78-7.78 2.81-2.81c.8-.78.8-2.07 0-2.86zM5.41 20L4 18.59l7.72-7.72 1.47 1.35L5.41 20z\"/>\n",
              "  </svg>\n",
              "      </button>\n",
              "      \n",
              "  <style>\n",
              "    .colab-df-container {\n",
              "      display:flex;\n",
              "      flex-wrap:wrap;\n",
              "      gap: 12px;\n",
              "    }\n",
              "\n",
              "    .colab-df-convert {\n",
              "      background-color: #E8F0FE;\n",
              "      border: none;\n",
              "      border-radius: 50%;\n",
              "      cursor: pointer;\n",
              "      display: none;\n",
              "      fill: #1967D2;\n",
              "      height: 32px;\n",
              "      padding: 0 0 0 0;\n",
              "      width: 32px;\n",
              "    }\n",
              "\n",
              "    .colab-df-convert:hover {\n",
              "      background-color: #E2EBFA;\n",
              "      box-shadow: 0px 1px 2px rgba(60, 64, 67, 0.3), 0px 1px 3px 1px rgba(60, 64, 67, 0.15);\n",
              "      fill: #174EA6;\n",
              "    }\n",
              "\n",
              "    [theme=dark] .colab-df-convert {\n",
              "      background-color: #3B4455;\n",
              "      fill: #D2E3FC;\n",
              "    }\n",
              "\n",
              "    [theme=dark] .colab-df-convert:hover {\n",
              "      background-color: #434B5C;\n",
              "      box-shadow: 0px 1px 3px 1px rgba(0, 0, 0, 0.15);\n",
              "      filter: drop-shadow(0px 1px 2px rgba(0, 0, 0, 0.3));\n",
              "      fill: #FFFFFF;\n",
              "    }\n",
              "  </style>\n",
              "\n",
              "      <script>\n",
              "        const buttonEl =\n",
              "          document.querySelector('#df-1c4db457-9f33-4145-9543-1f21064f9ae6 button.colab-df-convert');\n",
              "        buttonEl.style.display =\n",
              "          google.colab.kernel.accessAllowed ? 'block' : 'none';\n",
              "\n",
              "        async function convertToInteractive(key) {\n",
              "          const element = document.querySelector('#df-1c4db457-9f33-4145-9543-1f21064f9ae6');\n",
              "          const dataTable =\n",
              "            await google.colab.kernel.invokeFunction('convertToInteractive',\n",
              "                                                     [key], {});\n",
              "          if (!dataTable) return;\n",
              "\n",
              "          const docLinkHtml = 'Like what you see? Visit the ' +\n",
              "            '<a target=\"_blank\" href=https://colab.research.google.com/notebooks/data_table.ipynb>data table notebook</a>'\n",
              "            + ' to learn more about interactive tables.';\n",
              "          element.innerHTML = '';\n",
              "          dataTable['output_type'] = 'display_data';\n",
              "          await google.colab.output.renderOutput(dataTable, element);\n",
              "          const docLink = document.createElement('div');\n",
              "          docLink.innerHTML = docLinkHtml;\n",
              "          element.appendChild(docLink);\n",
              "        }\n",
              "      </script>\n",
              "    </div>\n",
              "  </div>\n",
              "  "
            ]
          },
          "metadata": {},
          "execution_count": 48
        }
      ]
    },
    {
      "cell_type": "code",
      "source": [
        "fig, ax = plt.subplots()\n",
        "ax.scatter(data[\"vpip\"], data[\"ratio action\"])\n",
        "\n",
        "for i, label in enumerate(data[\"bot\"]):\n",
        "    ax.annotate(label, (data.loc[i, \"vpip\"], data.loc[i, \"ratio action\"]))\n",
        "\n",
        "ax.set_title('Example Plot with Labels')\n",
        "ax.set_xlabel('VPIP')\n",
        "ax.set_ylabel('Ratio action')\n",
        "\n",
        "plt.show()"
      ],
      "metadata": {
        "colab": {
          "base_uri": "https://localhost:8080/",
          "height": 472
        },
        "id": "XZwJrH1g0Nst",
        "outputId": "39486144-75a5-44ca-dbc9-47c23842ad1f"
      },
      "execution_count": null,
      "outputs": [
        {
          "output_type": "display_data",
          "data": {
            "text/plain": [
              "<Figure size 640x480 with 1 Axes>"
            ],
            "image/png": "[encoded data removed]"
          },
          "metadata": {}
        }
      ]
    },
    {
      "cell_type": "code",
      "source": [
        "labels_bot = data[\"bot\"]"
      ],
      "metadata": {
        "id": "Pku0eH9j45ds"
      },
      "execution_count": null,
      "outputs": []
    },
    {
      "cell_type": "code",
      "source": [
        "labels_bot"
      ],
      "metadata": {
        "colab": {
          "base_uri": "https://localhost:8080/"
        },
        "id": "GDBCXuCI5BTh",
        "outputId": "57d5770d-ec84-4998-f620-7b879ee92586"
      },
      "execution_count": null,
      "outputs": [
        {
          "output_type": "execute_result",
          "data": {
            "text/plain": [
              "0                random_agent\n",
              "1                   agent_out\n",
              "2        agent_serre_agressif\n",
              "3                  agent_naif\n",
              "4                 agent_allIn\n",
              "5              agent_saboteur\n",
              "6    agent_serre_non_agressif\n",
              "7    agent_large_non_agressif\n",
              "Name: bot, dtype: object"
            ]
          },
          "metadata": {},
          "execution_count": 38
        }
      ]
    },
    {
      "cell_type": "code",
      "source": [
        "data_pred = data.drop(\"bot\", axis=1)"
      ],
      "metadata": {
        "id": "mjiCnInP4kbu"
      },
      "execution_count": null,
      "outputs": []
    },
    {
      "cell_type": "code",
      "source": [
        "data_pred"
      ],
      "metadata": {
        "colab": {
          "base_uri": "https://localhost:8080/",
          "height": 300
        },
        "id": "N-9wty9N4yrC",
        "outputId": "0c65ccae-5471-4a20-8e6c-eaacb56b44e4"
      },
      "execution_count": null,
      "outputs": [
        {
          "output_type": "execute_result",
          "data": {
            "text/plain": [
              "   vpip  ratio action\n",
              "0  0.49          0.56\n",
              "1  0.50          0.58\n",
              "2  0.15          0.15\n",
              "3  0.23          0.23\n",
              "4  0.88          0.88\n",
              "5  0.06          0.06\n",
              "6  0.02          0.02\n",
              "7  0.04          0.04"
            ],
            "text/html": [
              "\n",
              "  <div id=\"df-2991c7f5-64ec-467e-bfb8-2dd74782f73b\">\n",
              "    <div class=\"colab-df-container\">\n",
              "      <div>\n",
              "<style scoped>\n",
              "    .dataframe tbody tr th:only-of-type {\n",
              "        vertical-align: middle;\n",
              "    }\n",
              "\n",
              "    .dataframe tbody tr th {\n",
              "        vertical-align: top;\n",
              "    }\n",
              "\n",
              "    .dataframe thead th {\n",
              "        text-align: right;\n",
              "    }\n",
              "</style>\n",
              "<table border=\"1\" class=\"dataframe\">\n",
              "  <thead>\n",
              "    <tr style=\"text-align: right;\">\n",
              "      <th></th>\n",
              "      <th>vpip</th>\n",
              "      <th>ratio action</th>\n",
              "    </tr>\n",
              "  </thead>\n",
              "  <tbody>\n",
              "    <tr>\n",
              "      <th>0</th>\n",
              "      <td>0.49</td>\n",
              "      <td>0.56</td>\n",
              "    </tr>\n",
              "    <tr>\n",
              "      <th>1</th>\n",
              "      <td>0.50</td>\n",
              "      <td>0.58</td>\n",
              "    </tr>\n",
              "    <tr>\n",
              "      <th>2</th>\n",
              "      <td>0.15</td>\n",
              "      <td>0.15</td>\n",
              "    </tr>\n",
              "    <tr>\n",
              "      <th>3</th>\n",
              "      <td>0.23</td>\n",
              "      <td>0.23</td>\n",
              "    </tr>\n",
              "    <tr>\n",
              "      <th>4</th>\n",
              "      <td>0.88</td>\n",
              "      <td>0.88</td>\n",
              "    </tr>\n",
              "    <tr>\n",
              "      <th>5</th>\n",
              "      <td>0.06</td>\n",
              "      <td>0.06</td>\n",
              "    </tr>\n",
              "    <tr>\n",
              "      <th>6</th>\n",
              "      <td>0.02</td>\n",
              "      <td>0.02</td>\n",
              "    </tr>\n",
              "    <tr>\n",
              "      <th>7</th>\n",
              "      <td>0.04</td>\n",
              "      <td>0.04</td>\n",
              "    </tr>\n",
              "  </tbody>\n",
              "</table>\n",
              "</div>\n",
              "      <button class=\"colab-df-convert\" onclick=\"convertToInteractive('df-2991c7f5-64ec-467e-bfb8-2dd74782f73b')\"\n",
              "              title=\"Convert this dataframe to an interactive table.\"\n",
              "              style=\"display:none;\">\n",
              "        \n",
              "  <svg xmlns=\"http://www.w3.org/2000/svg\" height=\"24px\"viewBox=\"0 0 24 24\"\n",
              "       width=\"24px\">\n",
              "    <path d=\"M0 0h24v24H0V0z\" fill=\"none\"/>\n",
              "    <path d=\"M18.56 5.44l.94 2.06.94-2.06 2.06-.94-2.06-.94-.94-2.06-.94 2.06-2.06.94zm-11 1L8.5 8.5l.94-2.06 2.06-.94-2.06-.94L8.5 2.5l-.94 2.06-2.06.94zm10 10l.94 2.06.94-2.06 2.06-.94-2.06-.94-.94-2.06-.94 2.06-2.06.94z\"/><path d=\"M17.41 7.96l-1.37-1.37c-.4-.4-.92-.59-1.43-.59-.52 0-1.04.2-1.43.59L10.3 9.45l-7.72 7.72c-.78.78-.78 2.05 0 2.83L4 21.41c.39.39.9.59 1.41.59.51 0 1.02-.2 1.41-.59l7.78-7.78 2.81-2.81c.8-.78.8-2.07 0-2.86zM5.41 20L4 18.59l7.72-7.72 1.47 1.35L5.41 20z\"/>\n",
              "  </svg>\n",
              "      </button>\n",
              "      \n",
              "  <style>\n",
              "    .colab-df-container {\n",
              "      display:flex;\n",
              "      flex-wrap:wrap;\n",
              "      gap: 12px;\n",
              "    }\n",
              "\n",
              "    .colab-df-convert {\n",
              "      background-color: #E8F0FE;\n",
              "      border: none;\n",
              "      border-radius: 50%;\n",
              "      cursor: pointer;\n",
              "      display: none;\n",
              "      fill: #1967D2;\n",
              "      height: 32px;\n",
              "      padding: 0 0 0 0;\n",
              "      width: 32px;\n",
              "    }\n",
              "\n",
              "    .colab-df-convert:hover {\n",
              "      background-color: #E2EBFA;\n",
              "      box-shadow: 0px 1px 2px rgba(60, 64, 67, 0.3), 0px 1px 3px 1px rgba(60, 64, 67, 0.15);\n",
              "      fill: #174EA6;\n",
              "    }\n",
              "\n",
              "    [theme=dark] .colab-df-convert {\n",
              "      background-color: #3B4455;\n",
              "      fill: #D2E3FC;\n",
              "    }\n",
              "\n",
              "    [theme=dark] .colab-df-convert:hover {\n",
              "      background-color: #434B5C;\n",
              "      box-shadow: 0px 1px 3px 1px rgba(0, 0, 0, 0.15);\n",
              "      filter: drop-shadow(0px 1px 2px rgba(0, 0, 0, 0.3));\n",
              "      fill: #FFFFFF;\n",
              "    }\n",
              "  </style>\n",
              "\n",
              "      <script>\n",
              "        const buttonEl =\n",
              "          document.querySelector('#df-2991c7f5-64ec-467e-bfb8-2dd74782f73b button.colab-df-convert');\n",
              "        buttonEl.style.display =\n",
              "          google.colab.kernel.accessAllowed ? 'block' : 'none';\n",
              "\n",
              "        async function convertToInteractive(key) {\n",
              "          const element = document.querySelector('#df-2991c7f5-64ec-467e-bfb8-2dd74782f73b');\n",
              "          const dataTable =\n",
              "            await google.colab.kernel.invokeFunction('convertToInteractive',\n",
              "                                                     [key], {});\n",
              "          if (!dataTable) return;\n",
              "\n",
              "          const docLinkHtml = 'Like what you see? Visit the ' +\n",
              "            '<a target=\"_blank\" href=https://colab.research.google.com/notebooks/data_table.ipynb>data table notebook</a>'\n",
              "            + ' to learn more about interactive tables.';\n",
              "          element.innerHTML = '';\n",
              "          dataTable['output_type'] = 'display_data';\n",
              "          await google.colab.output.renderOutput(dataTable, element);\n",
              "          const docLink = document.createElement('div');\n",
              "          docLink.innerHTML = docLinkHtml;\n",
              "          element.appendChild(docLink);\n",
              "        }\n",
              "      </script>\n",
              "    </div>\n",
              "  </div>\n",
              "  "
            ]
          },
          "metadata": {},
          "execution_count": 40
        }
      ]
    },
    {
      "cell_type": "code",
      "source": [
        "data_pred = data_pred.to_numpy()"
      ],
      "metadata": {
        "id": "bXO3jfLv40ZY"
      },
      "execution_count": null,
      "outputs": []
    },
    {
      "cell_type": "code",
      "source": [
        "data_pred"
      ],
      "metadata": {
        "colab": {
          "base_uri": "https://localhost:8080/"
        },
        "id": "plH4bub45IbV",
        "outputId": "7bc5fdf9-6457-4ece-da24-2aa8faefaeea"
      },
      "execution_count": null,
      "outputs": [
        {
          "output_type": "execute_result",
          "data": {
            "text/plain": [
              "array([[0.49, 0.56],\n",
              "       [0.5 , 0.58],\n",
              "       [0.15, 0.15],\n",
              "       [0.23, 0.23],\n",
              "       [0.88, 0.88],\n",
              "       [0.06, 0.06],\n",
              "       [0.02, 0.02],\n",
              "       [0.04, 0.04]])"
            ]
          },
          "metadata": {},
          "execution_count": 42
        }
      ]
    },
    {
      "cell_type": "code",
      "source": [
        "\n",
        "w, h = 14, 7\n",
        "fig, ax = plt.subplots(figsize=(w,h))\n",
        "ax.scatter(data_pred[:,0], data_pred[:,1], c=kmeans.predict(data_pred), s=300)\n",
        "\n",
        "for i, label in enumerate(labels_bot):\n",
        "    ax.annotate(label, (data.loc[i, \"vpip\"],data.loc[i, \"ratio action\"]),xytext=(data_pred[i,0]+0.01, data_pred[i,1]))\n",
        "\n",
        "ax.set_title(\"Test cluster sur bots\")\n",
        "ax.set_xlabel(\"VPIP\")\n",
        "ax.set_ylabel(\"ratio action\")"
      ],
      "metadata": {
        "colab": {
          "base_uri": "https://localhost:8080/",
          "height": 639
        },
        "id": "lqLdQ1SP4hUP",
        "outputId": "b8eca429-0949-4eba-d12f-bf80d768571e"
      },
      "execution_count": null,
      "outputs": [
        {
          "output_type": "execute_result",
          "data": {
            "text/plain": [
              "Text(0, 0.5, 'ratio action')"
            ]
          },
          "metadata": {},
          "execution_count": 63
        },
        {
          "output_type": "display_data",
          "data": {
            "text/plain": [
              "<Figure size 1400x700 with 1 Axes>"
            ],
            "image/png": "[encoded data removed]"
          },
          "metadata": {}
        }
      ]
    }
  ]
}